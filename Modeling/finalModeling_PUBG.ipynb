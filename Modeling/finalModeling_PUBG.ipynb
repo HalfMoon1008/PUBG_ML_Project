{
 "cells": [
  {
   "cell_type": "markdown",
   "metadata": {},
   "source": [
    "# How to do?"
   ]
  },
  {
   "cell_type": "markdown",
   "metadata": {},
   "source": [
    "- matchID, groupID 별로 묶음\n",
    "- 묶은 값들의 med값을 찾기 위해 새로운 칼럼 생성"
   ]
  },
  {
   "cell_type": "markdown",
   "metadata": {},
   "source": [
    "# 공통처리"
   ]
  },
  {
   "cell_type": "markdown",
   "metadata": {},
   "source": [
    "## import"
   ]
  },
  {
   "cell_type": "code",
   "execution_count": 3,
   "metadata": {},
   "outputs": [],
   "source": [
    "import numpy as np \n",
    "import pandas as pd\n",
    "import matplotlib.pyplot as plt\n",
    "import seaborn as sns\n",
    "import missingno as msno\n",
    "\n",
    "from sklearn.linear_model import LinearRegression\n",
    "from sklearn.linear_model import Lasso\n",
    "from sklearn.linear_model import Ridge\n",
    "from xgboost.sklearn import XGBRegressor\n",
    "from sklearn.ensemble import RandomForestRegressor\n",
    "from sklearn.svm import SVR\n",
    "from lightgbm.sklearn import LGBMRegressor\n",
    "from sklearn.metrics import mean_absolute_error\n",
    "from sklearn.model_selection import train_test_split"
   ]
  },
  {
   "cell_type": "markdown",
   "metadata": {},
   "source": [
    "## memoryReduce"
   ]
  },
  {
   "cell_type": "code",
   "execution_count": 4,
   "metadata": {},
   "outputs": [],
   "source": [
    "# Memory saving function credit to https://www.kaggle.com/gemartin/load-data-reduce-memory-usage\n",
    "def reduce_mem_usage(df):\n",
    "    \"\"\" iterate through all the columns of a dataframe and modify the data type\n",
    "        to reduce memory usage.        \n",
    "    \"\"\"\n",
    "    #start_mem = df.memory_usage().sum() / 1024**2\n",
    "    #print('Memory usage of dataframe is {:.2f} MB'.format(start_mem))\n",
    "\n",
    "    for col in df.columns:\n",
    "        col_type = df[col].dtype\n",
    "\n",
    "        if col_type != object:\n",
    "            c_min = df[col].min()\n",
    "            c_max = df[col].max()\n",
    "            if str(col_type)[:3] == 'int':\n",
    "                if c_min > np.iinfo(np.int8).min and c_max < np.iinfo(np.int8).max:\n",
    "                    df[col] = df[col].astype(np.int8)\n",
    "                elif c_min > np.iinfo(np.int16).min and c_max < np.iinfo(np.int16).max:\n",
    "                    df[col] = df[col].astype(np.int16)\n",
    "                elif c_min > np.iinfo(np.int32).min and c_max < np.iinfo(np.int32).max:\n",
    "                    df[col] = df[col].astype(np.int32)\n",
    "                elif c_min > np.iinfo(np.int64).min and c_max < np.iinfo(np.int64).max:\n",
    "                    df[col] = df[col].astype(np.int64)  \n",
    "            else:\n",
    "                if c_min > np.finfo(np.float16).min and c_max < np.finfo(np.float16).max:\n",
    "                    df[col] = df[col].astype(np.float16)\n",
    "                elif c_min > np.finfo(np.float32).min and c_max < np.finfo(np.float32).max:\n",
    "                    df[col] = df[col].astype(np.float32)\n",
    "                else:\n",
    "                    df[col] = df[col].astype(np.float64)\n",
    "\n",
    "    #end_mem = df.memory_usage().sum() / 1024**2\n",
    "    #print('Memory usage after optimization is: {:.2f} MB'.format(end_mem))\n",
    "    #print('Decreased by {:.1f}%'.format(100 * (start_mem - end_mem) / start_mem))\n",
    "\n",
    "    return df"
   ]
  },
  {
   "cell_type": "markdown",
   "metadata": {},
   "source": [
    "## Set dataFrame"
   ]
  },
  {
   "cell_type": "code",
   "execution_count": 6,
   "metadata": {},
   "outputs": [],
   "source": [
    "train = pd.read_csv('data/featured_train_4.csv')\n",
    "train = reduce_mem_usage(train)"
   ]
  },
  {
   "cell_type": "code",
   "execution_count": 7,
   "metadata": {},
   "outputs": [],
   "source": [
    "df = train.copy()"
   ]
  },
  {
   "cell_type": "markdown",
   "metadata": {},
   "source": [
    "## Missing data processing"
   ]
  },
  {
   "cell_type": "code",
   "execution_count": 8,
   "metadata": {},
   "outputs": [
    {
     "name": "stdout",
     "output_type": "stream",
     "text": [
      "* 데이터 타입, 데이터프레임 정보 확인\n",
      "----------------------------------------------------------------------\n",
      "<class 'pandas.core.frame.DataFrame'>\n",
      "RangeIndex: 2026744 entries, 0 to 2026743\n",
      "Data columns (total 47 columns):\n",
      " #   Column                     Dtype  \n",
      "---  ------                     -----  \n",
      " 0   assists_mean               float16\n",
      " 1   boosts_mean                float16\n",
      " 2   damageDealt_mean           float16\n",
      " 3   DBNOs_mean                 float16\n",
      " 4   headshotKills_mean         float16\n",
      " 5   heals_mean                 float16\n",
      " 6   killPlace_mean             float16\n",
      " 7   killPoints_mean            float16\n",
      " 8   kills_mean                 float16\n",
      " 9   killStreaks_mean           float16\n",
      " 10  longestKill_mean           float16\n",
      " 11  maxPlace_mean              float16\n",
      " 12  numGroups_mean             float16\n",
      " 13  rankPoints_mean            float16\n",
      " 14  revives_mean               float16\n",
      " 15  rideDistance_mean          float16\n",
      " 16  roadKills_mean             float16\n",
      " 17  swimDistance_mean          float16\n",
      " 18  teamKills_mean             float16\n",
      " 19  vehicleDestroys_mean       float16\n",
      " 20  walkDistance_mean          float16\n",
      " 21  weaponsAcquired_mean       float16\n",
      " 22  winPoints_mean             float16\n",
      " 23  assists_mean_rank          float16\n",
      " 24  boosts_mean_rank           float16\n",
      " 25  damageDealt_mean_rank      float16\n",
      " 26  DBNOs_mean_rank            float16\n",
      " 27  headshotKills_mean_rank    float16\n",
      " 28  heals_mean_rank            float16\n",
      " 29  killPlace_mean_rank        float16\n",
      " 30  killPoints_mean_rank       float16\n",
      " 31  kills_mean_rank            float16\n",
      " 32  killStreaks_mean_rank      float16\n",
      " 33  longestKill_mean_rank      float16\n",
      " 34  maxPlace_mean_rank         float16\n",
      " 35  numGroups_mean_rank        float16\n",
      " 36  rankPoints_mean_rank       float16\n",
      " 37  revives_mean_rank          float16\n",
      " 38  rideDistance_mean_rank     float16\n",
      " 39  roadKills_mean_rank        float16\n",
      " 40  swimDistance_mean_rank     float16\n",
      " 41  teamKills_mean_rank        float16\n",
      " 42  vehicleDestroys_mean_rank  float16\n",
      " 43  walkDistance_mean_rank     float16\n",
      " 44  weaponsAcquired_mean_rank  float16\n",
      " 45  winPoints_mean_rank        float16\n",
      " 46  winPlacePerc               float16\n",
      "dtypes: float16(47)\n",
      "memory usage: 181.7 MB\n",
      "\n",
      "* 데이터 칼럼별 결측값 확인\n",
      "----------------------------------------------------------------------\n"
     ]
    },
    {
     "data": {
      "text/plain": [
       "assists_mean                 0\n",
       "boosts_mean                  0\n",
       "damageDealt_mean             0\n",
       "DBNOs_mean                   0\n",
       "headshotKills_mean           0\n",
       "heals_mean                   0\n",
       "killPlace_mean               0\n",
       "killPoints_mean              0\n",
       "kills_mean                   0\n",
       "killStreaks_mean             0\n",
       "longestKill_mean             0\n",
       "maxPlace_mean                0\n",
       "numGroups_mean               0\n",
       "rankPoints_mean              0\n",
       "revives_mean                 0\n",
       "rideDistance_mean            0\n",
       "roadKills_mean               0\n",
       "swimDistance_mean            0\n",
       "teamKills_mean               0\n",
       "vehicleDestroys_mean         0\n",
       "walkDistance_mean            0\n",
       "weaponsAcquired_mean         0\n",
       "winPoints_mean               0\n",
       "assists_mean_rank            0\n",
       "boosts_mean_rank             0\n",
       "damageDealt_mean_rank        0\n",
       "DBNOs_mean_rank              0\n",
       "headshotKills_mean_rank      0\n",
       "heals_mean_rank              0\n",
       "killPlace_mean_rank          0\n",
       "killPoints_mean_rank         0\n",
       "kills_mean_rank              0\n",
       "killStreaks_mean_rank        0\n",
       "longestKill_mean_rank        0\n",
       "maxPlace_mean_rank           0\n",
       "numGroups_mean_rank          0\n",
       "rankPoints_mean_rank         0\n",
       "revives_mean_rank            0\n",
       "rideDistance_mean_rank       0\n",
       "roadKills_mean_rank          0\n",
       "swimDistance_mean_rank       0\n",
       "teamKills_mean_rank          0\n",
       "vehicleDestroys_mean_rank    0\n",
       "walkDistance_mean_rank       0\n",
       "weaponsAcquired_mean_rank    0\n",
       "winPoints_mean_rank          0\n",
       "winPlacePerc                 0\n",
       "dtype: int64"
      ]
     },
     "execution_count": 8,
     "metadata": {},
     "output_type": "execute_result"
    }
   ],
   "source": [
    "print(\"* 데이터 타입, 데이터프레임 정보 확인\")\n",
    "print(\"----------------------------------------------------------------------\")\n",
    "df.info()\n",
    "print()\n",
    "print(\"* 데이터 칼럼별 결측값 확인\")\n",
    "print(\"----------------------------------------------------------------------\")\n",
    "df.isnull().sum()"
   ]
  },
  {
   "cell_type": "markdown",
   "metadata": {},
   "source": [
    "# Data Split"
   ]
  },
  {
   "cell_type": "code",
   "execution_count": 9,
   "metadata": {},
   "outputs": [
    {
     "data": {
      "text/plain": [
       "((1621395, 46), (405349, 46), (1621395,), (405349,))"
      ]
     },
     "execution_count": 9,
     "metadata": {},
     "output_type": "execute_result"
    }
   ],
   "source": [
    "X = df.drop(columns='winPlacePerc')\n",
    "y = df['winPlacePerc']\n",
    "\n",
    "X_train, X_test, y_train, y_test = \\\n",
    "train_test_split(X, y, test_size=0.2, random_state=100)\n",
    "\n",
    "X_train.shape, X_test.shape, y_train.shape, y_test.shape"
   ]
  },
  {
   "cell_type": "markdown",
   "metadata": {},
   "source": [
    "# Modeling"
   ]
  },
  {
   "cell_type": "markdown",
   "metadata": {},
   "source": [
    "## LinearRegression"
   ]
  },
  {
   "cell_type": "code",
   "execution_count": 10,
   "metadata": {},
   "outputs": [
    {
     "name": "stdout",
     "output_type": "stream",
     "text": [
      "LinearRegression MAE : 0.058066\n"
     ]
    }
   ],
   "source": [
    "# LinearRegression\n",
    "\n",
    "model_lr = LinearRegression().fit(X_train, y_train)\n",
    "pred = model_lr.predict(X_test)\n",
    "mae = mean_absolute_error(pred, y_test)\n",
    "print('LinearRegression MAE : %f' %mae)"
   ]
  },
  {
   "cell_type": "markdown",
   "metadata": {},
   "source": [
    "## Lasso"
   ]
  },
  {
   "cell_type": "code",
   "execution_count": 11,
   "metadata": {},
   "outputs": [
    {
     "name": "stdout",
     "output_type": "stream",
     "text": [
      "Lasso MAE : 0.114787\n"
     ]
    }
   ],
   "source": [
    "# Lasso\n",
    "\n",
    "model_ls = Lasso().fit(X_train, y_train)\n",
    "pred2 = model_ls.predict(X_test)\n",
    "mae = mean_absolute_error(pred2, y_test)\n",
    "print('Lasso MAE : %f' %mae)"
   ]
  },
  {
   "cell_type": "markdown",
   "metadata": {},
   "source": [
    "## Ridge"
   ]
  },
  {
   "cell_type": "code",
   "execution_count": 12,
   "metadata": {},
   "outputs": [
    {
     "name": "stdout",
     "output_type": "stream",
     "text": [
      "Ridge MAE : 0.058067\n"
     ]
    }
   ],
   "source": [
    "# Ridge\n",
    "\n",
    "model_rg = Ridge().fit(X_train, y_train)\n",
    "pred3 = model_rg.predict(X_test)\n",
    "mae = mean_absolute_error(pred3, y_test)\n",
    "print('Ridge MAE : %f' %mae)"
   ]
  },
  {
   "cell_type": "markdown",
   "metadata": {},
   "source": [
    "## LightGBM"
   ]
  },
  {
   "cell_type": "code",
   "execution_count": 13,
   "metadata": {},
   "outputs": [
    {
     "name": "stdout",
     "output_type": "stream",
     "text": [
      "LGBMRegressor MAE : 0.046707\n"
     ]
    }
   ],
   "source": [
    "# LGBMRegressor\n",
    "\n",
    "model_lgb = LGBMRegressor().fit(X_train, y_train)\n",
    "pred4 = model_lgb.predict(X_test)\n",
    "mae = mean_absolute_error(pred4, y_test)\n",
    "print('LGBMRegressor MAE : %f' %mae)"
   ]
  },
  {
   "cell_type": "markdown",
   "metadata": {},
   "source": [
    "## XGBoost"
   ]
  },
  {
   "cell_type": "code",
   "execution_count": 14,
   "metadata": {},
   "outputs": [
    {
     "name": "stdout",
     "output_type": "stream",
     "text": [
      "XGBRegressor MAE : 0.044343\n"
     ]
    }
   ],
   "source": [
    "# XGBRegressor\n",
    "\n",
    "model_xgb = XGBRegressor().fit(X_train, y_train)\n",
    "pred5 = model_xgb.predict(X_test)\n",
    "mae = mean_absolute_error(pred5, y_test)\n",
    "print('XGBRegressor MAE : %f' %mae)"
   ]
  },
  {
   "cell_type": "markdown",
   "metadata": {},
   "source": [
    "## RandomForest"
   ]
  },
  {
   "cell_type": "code",
   "execution_count": 15,
   "metadata": {},
   "outputs": [
    {
     "name": "stdout",
     "output_type": "stream",
     "text": [
      "RandomForestRegressor MAE : 0.044171\n"
     ]
    }
   ],
   "source": [
    "# RandomForestRegressor\n",
    "\n",
    "model_rfr = RandomForestRegressor().fit(X_train, y_train)\n",
    "pred6 = model_rfr.predict(X_test)\n",
    "mae = mean_absolute_error(pred6, y_test)\n",
    "print('RandomForestRegressor MAE : %f' %mae)"
   ]
  }
 ],
 "metadata": {
  "interpreter": {
   "hash": "bf3ad073ee54fe618f028f20979c6d93bf2de419467b5c87f8cf480ac49fd2db"
  },
  "kernelspec": {
   "display_name": "Python 3.8.13 ('yeardream')",
   "language": "python",
   "name": "python3"
  },
  "language_info": {
   "codemirror_mode": {
    "name": "ipython",
    "version": 3
   },
   "file_extension": ".py",
   "mimetype": "text/x-python",
   "name": "python",
   "nbconvert_exporter": "python",
   "pygments_lexer": "ipython3",
   "version": "3.8.13"
  },
  "orig_nbformat": 4
 },
 "nbformat": 4,
 "nbformat_minor": 2
}
