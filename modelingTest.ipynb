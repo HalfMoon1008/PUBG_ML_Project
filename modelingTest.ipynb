{
 "cells": [
  {
   "cell_type": "code",
   "execution_count": 10,
   "metadata": {},
   "outputs": [],
   "source": [
    "import numpy as np \n",
    "import pandas as pd\n",
    "import matplotlib.pyplot as plt\n",
    "import seaborn as sns\n",
    "import missingno as msno\n",
    "\n",
    "from lightgbm.sklearn import LGBMRegressor\n",
    "from sklearn.metrics import mean_absolute_error\n",
    "from sklearn.model_selection import train_test_split"
   ]
  },
  {
   "cell_type": "code",
   "execution_count": 11,
   "metadata": {},
   "outputs": [],
   "source": [
    "# Memory saving function credit to https://www.kaggle.com/gemartin/load-data-reduce-memory-usage\n",
    "def reduce_mem_usage(df):\n",
    "    \"\"\" iterate through all the columns of a dataframe and modify the data type\n",
    "        to reduce memory usage.        \n",
    "    \"\"\"\n",
    "    #start_mem = df.memory_usage().sum() / 1024**2\n",
    "    #print('Memory usage of dataframe is {:.2f} MB'.format(start_mem))\n",
    "\n",
    "    for col in df.columns:\n",
    "        col_type = df[col].dtype\n",
    "\n",
    "        if col_type != object:\n",
    "            c_min = df[col].min()\n",
    "            c_max = df[col].max()\n",
    "            if str(col_type)[:3] == 'int':\n",
    "                if c_min > np.iinfo(np.int8).min and c_max < np.iinfo(np.int8).max:\n",
    "                    df[col] = df[col].astype(np.int8)\n",
    "                elif c_min > np.iinfo(np.int16).min and c_max < np.iinfo(np.int16).max:\n",
    "                    df[col] = df[col].astype(np.int16)\n",
    "                elif c_min > np.iinfo(np.int32).min and c_max < np.iinfo(np.int32).max:\n",
    "                    df[col] = df[col].astype(np.int32)\n",
    "                elif c_min > np.iinfo(np.int64).min and c_max < np.iinfo(np.int64).max:\n",
    "                    df[col] = df[col].astype(np.int64)  \n",
    "            else:\n",
    "                if c_min > np.finfo(np.float16).min and c_max < np.finfo(np.float16).max:\n",
    "                    df[col] = df[col].astype(np.float16)\n",
    "                elif c_min > np.finfo(np.float32).min and c_max < np.finfo(np.float32).max:\n",
    "                    df[col] = df[col].astype(np.float32)\n",
    "                else:\n",
    "                    df[col] = df[col].astype(np.float64)\n",
    "\n",
    "    #end_mem = df.memory_usage().sum() / 1024**2\n",
    "    #print('Memory usage after optimization is: {:.2f} MB'.format(end_mem))\n",
    "    #print('Decreased by {:.1f}%'.format(100 * (start_mem - end_mem) / start_mem))\n",
    "\n",
    "    return df"
   ]
  },
  {
   "cell_type": "markdown",
   "metadata": {},
   "source": [
    "## 1차 전처리"
   ]
  },
  {
   "cell_type": "code",
   "execution_count": 12,
   "metadata": {},
   "outputs": [],
   "source": [
    "train = pd.read_csv('/Users/sanghyun/Desktop/Coding/PUBG_ML_Project/data/featured_train_1.csv')\n",
    "train = reduce_mem_usage(train)"
   ]
  },
  {
   "cell_type": "code",
   "execution_count": 13,
   "metadata": {},
   "outputs": [],
   "source": [
    "check = train.copy()"
   ]
  },
  {
   "cell_type": "code",
   "execution_count": 14,
   "metadata": {},
   "outputs": [],
   "source": [
    "includeAll = check.copy() # maxPlace 포함, numGroups 포함\n",
    "\n",
    "dropMaxplace = check.copy() # maxPlace 미포함, numGroups 포함\n",
    "dropNum = check.copy() # maxPlace 포함, numGroups 미포함\n",
    "\n",
    "dropAll = check.copy() # maxPlace와 numGroups 미포함"
   ]
  },
  {
   "cell_type": "code",
   "execution_count": 15,
   "metadata": {},
   "outputs": [],
   "source": [
    "# matchType는 Feature Engineering을 해야하는 칼럼이기 때문에 공통적으로 Drop\n",
    "\n",
    "includeAll   = includeAll.drop(columns=['killPoints', 'winPoints'])\n",
    "dropMaxplace = dropMaxplace.drop(columns=['killPoints', 'winPoints','maxPlace'])\n",
    "dropNum      = dropNum.drop(columns=['killPoints', 'winPoints','numGroups'])\n",
    "dropAll      = dropAll.drop(columns=['killPoints', 'winPoints','maxPlace','numGroups'])"
   ]
  },
  {
   "cell_type": "code",
   "execution_count": 16,
   "metadata": {},
   "outputs": [
    {
     "data": {
      "text/plain": [
       "((3557572, 18), (889393, 18), (3557572,), (889393,))"
      ]
     },
     "execution_count": 16,
     "metadata": {},
     "output_type": "execute_result"
    }
   ],
   "source": [
    "## includeAll\n",
    "\n",
    "X = includeAll.drop(columns='winPlacePerc')\n",
    "y = includeAll['winPlacePerc']\n",
    "\n",
    "X_Alltrain, X_Alltest, y_Alltrain, y_Alltest = \\\n",
    "train_test_split(X, y, test_size=0.2, random_state=100)\n",
    "\n",
    "X_Alltrain.shape, X_Alltest.shape, y_Alltrain.shape, y_Alltest.shape"
   ]
  },
  {
   "cell_type": "code",
   "execution_count": 17,
   "metadata": {},
   "outputs": [
    {
     "data": {
      "text/plain": [
       "0.0638663432806029"
      ]
     },
     "execution_count": 17,
     "metadata": {},
     "output_type": "execute_result"
    }
   ],
   "source": [
    "model = LGBMRegressor()\n",
    "model.fit(X_Alltrain, y_Alltrain)\n",
    "pred = model.predict(X_Alltest)\n",
    "mean_absolute_error(y_Alltest, pred)"
   ]
  },
  {
   "cell_type": "code",
   "execution_count": 18,
   "metadata": {},
   "outputs": [
    {
     "data": {
      "text/plain": [
       "((3557572, 17), (889393, 17), (3557572,), (889393,))"
      ]
     },
     "execution_count": 18,
     "metadata": {},
     "output_type": "execute_result"
    }
   ],
   "source": [
    "## dropMaxplace\n",
    "\n",
    "X = dropMaxplace.drop(columns='winPlacePerc')\n",
    "y = dropMaxplace['winPlacePerc']\n",
    "\n",
    "X_dropMtrain, X_dropMtest, y_dropMtrain, y_dropMtest = \\\n",
    "train_test_split(X, y, test_size=0.2, random_state=100)\n",
    "\n",
    "X_dropMtrain.shape, X_dropMtest.shape, y_dropMtrain.shape, y_dropMtest.shape"
   ]
  },
  {
   "cell_type": "code",
   "execution_count": 19,
   "metadata": {},
   "outputs": [
    {
     "data": {
      "text/plain": [
       "0.06404962181939954"
      ]
     },
     "execution_count": 19,
     "metadata": {},
     "output_type": "execute_result"
    }
   ],
   "source": [
    "model = LGBMRegressor()\n",
    "model.fit(X_dropMtrain, y_dropMtrain)\n",
    "pred = model.predict(X_dropMtest)\n",
    "mean_absolute_error(y_dropMtest, pred)"
   ]
  },
  {
   "cell_type": "code",
   "execution_count": 20,
   "metadata": {},
   "outputs": [
    {
     "data": {
      "text/plain": [
       "((3557572, 17), (889393, 17), (3557572,), (889393,))"
      ]
     },
     "execution_count": 20,
     "metadata": {},
     "output_type": "execute_result"
    }
   ],
   "source": [
    "## dropNum\n",
    "\n",
    "X = dropNum.drop(columns='winPlacePerc')\n",
    "y = dropNum['winPlacePerc']\n",
    "\n",
    "X_dropNumtrain, X_dropNumtest, y_dropNumtrain, y_dropNumtest = \\\n",
    "train_test_split(X, y, test_size=0.2, random_state=100)\n",
    "\n",
    "X_dropNumtrain.shape, X_dropNumtest.shape, y_dropNumtrain.shape, y_dropNumtest.shape"
   ]
  },
  {
   "cell_type": "code",
   "execution_count": 21,
   "metadata": {},
   "outputs": [
    {
     "data": {
      "text/plain": [
       "0.06510741118619552"
      ]
     },
     "execution_count": 21,
     "metadata": {},
     "output_type": "execute_result"
    }
   ],
   "source": [
    "model = LGBMRegressor()\n",
    "model.fit(X_dropNumtrain, y_dropNumtrain)\n",
    "pred = model.predict(X_dropNumtest)\n",
    "mean_absolute_error(y_dropNumtest, pred)"
   ]
  },
  {
   "cell_type": "code",
   "execution_count": 22,
   "metadata": {},
   "outputs": [
    {
     "data": {
      "text/plain": [
       "((3557572, 16), (889393, 16), (3557572,), (889393,))"
      ]
     },
     "execution_count": 22,
     "metadata": {},
     "output_type": "execute_result"
    }
   ],
   "source": [
    "## dropAll\n",
    "\n",
    "X = dropAll.drop(columns='winPlacePerc')\n",
    "y = dropAll['winPlacePerc']\n",
    "\n",
    "X_dropAlltrain, X_dropAlltest, y_dropAlltrain, y_dropAlltest = \\\n",
    "train_test_split(X, y, test_size=0.2, random_state=100)\n",
    "\n",
    "X_dropAlltrain.shape, X_dropAlltest.shape, y_dropAlltrain.shape, y_dropAlltest.shape"
   ]
  },
  {
   "cell_type": "code",
   "execution_count": 23,
   "metadata": {},
   "outputs": [
    {
     "data": {
      "text/plain": [
       "0.07113038445049037"
      ]
     },
     "execution_count": 23,
     "metadata": {},
     "output_type": "execute_result"
    }
   ],
   "source": [
    "model = LGBMRegressor()\n",
    "model.fit(X_dropAlltrain, y_dropAlltrain)\n",
    "pred = model.predict(X_dropAlltest)\n",
    "mean_absolute_error(y_dropAlltest, pred)"
   ]
  },
  {
   "cell_type": "markdown",
   "metadata": {},
   "source": [
    "## 2차 전처리"
   ]
  },
  {
   "cell_type": "code",
   "execution_count": 24,
   "metadata": {},
   "outputs": [],
   "source": [
    "fdata = reduce_mem_usage(pd.read_csv('/Users/sanghyun/Desktop/Coding/PUBG_ML_Project/data/featured_train_2.csv'))"
   ]
  },
  {
   "cell_type": "code",
   "execution_count": 25,
   "metadata": {},
   "outputs": [],
   "source": [
    "X = fdata.drop(columns='winPlacePerc')\n",
    "y = fdata['winPlacePerc']\n",
    "\n",
    "X_train, X_test, y_train, y_test = \\\n",
    "train_test_split(X, y, test_size=0.2, random_state=100)\n",
    "\n",
    "# X_featureTrain.shape, X_featureTest.shape, y_featureTrain.shape, y_featureTest.shape"
   ]
  },
  {
   "cell_type": "code",
   "execution_count": 26,
   "metadata": {},
   "outputs": [
    {
     "data": {
      "text/plain": [
       "0.06808530824631952"
      ]
     },
     "execution_count": 26,
     "metadata": {},
     "output_type": "execute_result"
    }
   ],
   "source": [
    "model = LGBMRegressor()\n",
    "model.fit(X_train, y_train)\n",
    "pred = model.predict(X_test)\n",
    "mean_absolute_error(y_test, pred)"
   ]
  },
  {
   "cell_type": "markdown",
   "metadata": {},
   "source": [
    "## 개인 테스트(cat_numGroups)"
   ]
  },
  {
   "cell_type": "code",
   "execution_count": 27,
   "metadata": {},
   "outputs": [],
   "source": [
    "dropNum = fdata.copy()\n",
    "\n",
    "dropNum   = dropNum.drop(columns=['cat_numGroups'])"
   ]
  },
  {
   "cell_type": "code",
   "execution_count": 28,
   "metadata": {},
   "outputs": [],
   "source": [
    "X = dropNum.drop(columns='winPlacePerc')\n",
    "y = dropNum['winPlacePerc']\n",
    "\n",
    "X_train, X_test, y_train, y_test = \\\n",
    "train_test_split(X, y, test_size=0.2, random_state=100)\n",
    "\n",
    "# X_featureTrain.shape, X_featureTest.shape, y_featureTrain.shape, y_featureTest.shape"
   ]
  },
  {
   "cell_type": "code",
   "execution_count": 29,
   "metadata": {},
   "outputs": [
    {
     "data": {
      "text/plain": [
       "0.06904852944390456"
      ]
     },
     "execution_count": 29,
     "metadata": {},
     "output_type": "execute_result"
    }
   ],
   "source": [
    "model = LGBMRegressor()\n",
    "model.fit(X_train, y_train)\n",
    "pred = model.predict(X_test)\n",
    "mean_absolute_error(y_test, pred)"
   ]
  }
 ],
 "metadata": {
  "interpreter": {
   "hash": "bf3ad073ee54fe618f028f20979c6d93bf2de419467b5c87f8cf480ac49fd2db"
  },
  "kernelspec": {
   "display_name": "Python 3.8.13 ('yeardream')",
   "language": "python",
   "name": "python3"
  },
  "language_info": {
   "codemirror_mode": {
    "name": "ipython",
    "version": 3
   },
   "file_extension": ".py",
   "mimetype": "text/x-python",
   "name": "python",
   "nbconvert_exporter": "python",
   "pygments_lexer": "ipython3",
   "version": "3.8.13"
  },
  "orig_nbformat": 4
 },
 "nbformat": 4,
 "nbformat_minor": 2
}
