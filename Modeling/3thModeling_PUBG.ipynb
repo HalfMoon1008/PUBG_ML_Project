{
 "cells": [
  {
   "cell_type": "markdown",
   "metadata": {},
   "source": [
    "# How to do?"
   ]
  },
  {
   "cell_type": "markdown",
   "metadata": {},
   "source": [
    "- killPlace의 경우 data leakage로 판단되기 때문에 coulmn drop\n",
    "- outlier raw drop\n",
    "- Make new feature : heals_boosts, killsWithoutMoving, totalDistance, killsNorm, damageDealtNorm\n",
    "    - heals_boosts : df['heals'] + df['boosts']\n",
    "    - killsWithoutMoving : ((df['killsNorm'] > 0) & (df['totalDistance'] == 0))\n",
    "    - totalDistance : df['rideDistance'] + df['walkDistance'] + df['swimDistance']\n",
    "    - killsNorm : df.kills * ((100 - df.playersJoined)/100 + 1)\n",
    "    - damageDealtNorm : df.damageDealt * ((100 - df.playersJoined)/100 + 1)\n",
    "- change to categorical feature : vehicleDestroys, weaponsAcquired, walkDistance, binary_rideAndswim, \n",
    "- LightGBM, RandomForest, SVR, H2O의 경우 Modeling 시간이 오래 걸리기 때문에 제외"
   ]
  },
  {
   "cell_type": "markdown",
   "metadata": {},
   "source": [
    "# 공통처리"
   ]
  },
  {
   "cell_type": "markdown",
   "metadata": {},
   "source": [
    "## import"
   ]
  },
  {
   "cell_type": "code",
   "execution_count": 9,
   "metadata": {},
   "outputs": [],
   "source": [
    "import numpy as np \n",
    "import pandas as pd\n",
    "import matplotlib.pyplot as plt\n",
    "import seaborn as sns\n",
    "import missingno as msno\n",
    "\n",
    "from sklearn.linear_model import LinearRegression\n",
    "from sklearn.linear_model import Lasso\n",
    "from sklearn.linear_model import Ridge\n",
    "from xgboost.sklearn import XGBRegressor\n",
    "from sklearn.ensemble import RandomForestRegressor\n",
    "from sklearn.svm import SVR\n",
    "from lightgbm.sklearn import LGBMRegressor\n",
    "from sklearn.metrics import mean_absolute_error\n",
    "from sklearn.model_selection import train_test_split"
   ]
  },
  {
   "cell_type": "markdown",
   "metadata": {},
   "source": [
    "## memoryReduce"
   ]
  },
  {
   "cell_type": "code",
   "execution_count": 2,
   "metadata": {},
   "outputs": [],
   "source": [
    "# Memory saving function credit to https://www.kaggle.com/gemartin/load-data-reduce-memory-usage\n",
    "def reduce_mem_usage(df):\n",
    "    \"\"\" iterate through all the columns of a dataframe and modify the data type\n",
    "        to reduce memory usage.        \n",
    "    \"\"\"\n",
    "    #start_mem = df.memory_usage().sum() / 1024**2\n",
    "    #print('Memory usage of dataframe is {:.2f} MB'.format(start_mem))\n",
    "\n",
    "    for col in df.columns:\n",
    "        col_type = df[col].dtype\n",
    "\n",
    "        if col_type != object:\n",
    "            c_min = df[col].min()\n",
    "            c_max = df[col].max()\n",
    "            if str(col_type)[:3] == 'int':\n",
    "                if c_min > np.iinfo(np.int8).min and c_max < np.iinfo(np.int8).max:\n",
    "                    df[col] = df[col].astype(np.int8)\n",
    "                elif c_min > np.iinfo(np.int16).min and c_max < np.iinfo(np.int16).max:\n",
    "                    df[col] = df[col].astype(np.int16)\n",
    "                elif c_min > np.iinfo(np.int32).min and c_max < np.iinfo(np.int32).max:\n",
    "                    df[col] = df[col].astype(np.int32)\n",
    "                elif c_min > np.iinfo(np.int64).min and c_max < np.iinfo(np.int64).max:\n",
    "                    df[col] = df[col].astype(np.int64)  \n",
    "            else:\n",
    "                if c_min > np.finfo(np.float16).min and c_max < np.finfo(np.float16).max:\n",
    "                    df[col] = df[col].astype(np.float16)\n",
    "                elif c_min > np.finfo(np.float32).min and c_max < np.finfo(np.float32).max:\n",
    "                    df[col] = df[col].astype(np.float32)\n",
    "                else:\n",
    "                    df[col] = df[col].astype(np.float64)\n",
    "\n",
    "    #end_mem = df.memory_usage().sum() / 1024**2\n",
    "    #print('Memory usage after optimization is: {:.2f} MB'.format(end_mem))\n",
    "    #print('Decreased by {:.1f}%'.format(100 * (start_mem - end_mem) / start_mem))\n",
    "\n",
    "    return df"
   ]
  },
  {
   "cell_type": "markdown",
   "metadata": {},
   "source": [
    "## Set dataFrame"
   ]
  },
  {
   "cell_type": "code",
   "execution_count": 3,
   "metadata": {},
   "outputs": [],
   "source": [
    "train = pd.read_csv('data/featured_train_2.csv')\n",
    "train = reduce_mem_usage(train)"
   ]
  },
  {
   "cell_type": "code",
   "execution_count": 4,
   "metadata": {},
   "outputs": [],
   "source": [
    "df = train.copy()"
   ]
  },
  {
   "cell_type": "markdown",
   "metadata": {},
   "source": [
    "## Missing data processing"
   ]
  },
  {
   "cell_type": "code",
   "execution_count": 7,
   "metadata": {},
   "outputs": [
    {
     "name": "stdout",
     "output_type": "stream",
     "text": [
      "* 데이터 타입, 데이터프레임 정보 확인\n",
      "----------------------------------------------------------------------\n",
      "<class 'pandas.core.frame.DataFrame'>\n",
      "Int64Index: 4446965 entries, 0 to 4446965\n",
      "Data columns (total 20 columns):\n",
      " #   Column           Dtype  \n",
      "---  ------           -----  \n",
      " 0   assists          int8   \n",
      " 1   boosts           int8   \n",
      " 2   damageDealt      float16\n",
      " 3   DBNOs            int8   \n",
      " 4   headshotKills    int8   \n",
      " 5   heals            int8   \n",
      " 6   killPlace        int8   \n",
      " 7   killPoints       int16  \n",
      " 8   kills            int8   \n",
      " 9   killStreaks      int8   \n",
      " 10  longestKill      float16\n",
      " 11  numGroups        int8   \n",
      " 12  revives          int8   \n",
      " 13  rideDistance     float16\n",
      " 14  swimDistance     float16\n",
      " 15  vehicleDestroys  int8   \n",
      " 16  walkDistance     float16\n",
      " 17  weaponsAcquired  int16  \n",
      " 18  winPoints        int16  \n",
      " 19  winPlacePerc     float16\n",
      "dtypes: float16(6), int16(3), int8(11)\n",
      "memory usage: 156.9 MB\n",
      "\n",
      "* 데이터 칼럼별 결측값 확인\n",
      "----------------------------------------------------------------------\n"
     ]
    },
    {
     "data": {
      "text/plain": [
       "assists            0\n",
       "boosts             0\n",
       "damageDealt        0\n",
       "DBNOs              0\n",
       "headshotKills      0\n",
       "heals              0\n",
       "killPlace          0\n",
       "killPoints         0\n",
       "kills              0\n",
       "killStreaks        0\n",
       "longestKill        0\n",
       "numGroups          0\n",
       "revives            0\n",
       "rideDistance       0\n",
       "swimDistance       0\n",
       "vehicleDestroys    0\n",
       "walkDistance       0\n",
       "weaponsAcquired    0\n",
       "winPoints          0\n",
       "winPlacePerc       0\n",
       "dtype: int64"
      ]
     },
     "execution_count": 7,
     "metadata": {},
     "output_type": "execute_result"
    }
   ],
   "source": [
    "print(\"* 데이터 타입, 데이터프레임 정보 확인\")\n",
    "print(\"----------------------------------------------------------------------\")\n",
    "df.info()\n",
    "print()\n",
    "print(\"* 데이터 칼럼별 결측값 확인\")\n",
    "print(\"----------------------------------------------------------------------\")\n",
    "df.isnull().sum()"
   ]
  },
  {
   "cell_type": "markdown",
   "metadata": {},
   "source": [
    "# Data Split"
   ]
  },
  {
   "cell_type": "code",
   "execution_count": 8,
   "metadata": {},
   "outputs": [
    {
     "data": {
      "text/plain": [
       "((3557572, 19), (889393, 19), (3557572,), (889393,))"
      ]
     },
     "execution_count": 8,
     "metadata": {},
     "output_type": "execute_result"
    }
   ],
   "source": [
    "X = df.drop(columns='winPlacePerc')\n",
    "y = df['winPlacePerc']\n",
    "\n",
    "X_train, X_test, y_train, y_test = \\\n",
    "train_test_split(X, y, test_size=0.2, random_state=100)\n",
    "\n",
    "X_train.shape, X_test.shape, y_train.shape, y_test.shape"
   ]
  },
  {
   "cell_type": "markdown",
   "metadata": {},
   "source": [
    "# Modeling"
   ]
  },
  {
   "cell_type": "markdown",
   "metadata": {},
   "source": [
    "## LinearRegression"
   ]
  },
  {
   "cell_type": "code",
   "execution_count": 10,
   "metadata": {},
   "outputs": [
    {
     "name": "stdout",
     "output_type": "stream",
     "text": [
      "LinearRegression MAE : 0.097497\n"
     ]
    }
   ],
   "source": [
    "# LinearRegression\n",
    "\n",
    "model_lr = LinearRegression().fit(X_train, y_train)\n",
    "pred = model_lr.predict(X_test)\n",
    "mae = mean_absolute_error(pred, y_test)\n",
    "print('LinearRegression MAE : %f' %mae)"
   ]
  },
  {
   "cell_type": "markdown",
   "metadata": {},
   "source": [
    "## Lasso"
   ]
  },
  {
   "cell_type": "code",
   "execution_count": 11,
   "metadata": {},
   "outputs": [
    {
     "name": "stdout",
     "output_type": "stream",
     "text": [
      "Lasso MAE : 0.126115\n"
     ]
    }
   ],
   "source": [
    "# Lasso\n",
    "\n",
    "model_ls = Lasso().fit(X_train, y_train)\n",
    "pred2 = model_ls.predict(X_test)\n",
    "mae = mean_absolute_error(pred2, y_test)\n",
    "print('Lasso MAE : %f' %mae)"
   ]
  },
  {
   "cell_type": "markdown",
   "metadata": {},
   "source": [
    "## Ridge"
   ]
  },
  {
   "cell_type": "code",
   "execution_count": 12,
   "metadata": {},
   "outputs": [
    {
     "name": "stdout",
     "output_type": "stream",
     "text": [
      "Ridge MAE : 0.097497\n"
     ]
    },
    {
     "name": "stderr",
     "output_type": "stream",
     "text": [
      "/Users/sanghyun/miniforge3/envs/yeardream/lib/python3.8/site-packages/sklearn/linear_model/_ridge.py:157: LinAlgWarning: Ill-conditioned matrix (rcond=2.82973e-09): result may not be accurate.\n",
      "  return linalg.solve(A, Xy, sym_pos=True, overwrite_a=True).T\n"
     ]
    }
   ],
   "source": [
    "# Ridge\n",
    "\n",
    "model_rg = Ridge().fit(X_train, y_train)\n",
    "pred3 = model_rg.predict(X_test)\n",
    "mae = mean_absolute_error(pred3, y_test)\n",
    "print('Ridge MAE : %f' %mae)"
   ]
  },
  {
   "cell_type": "markdown",
   "metadata": {},
   "source": [
    "## LightGBM"
   ]
  },
  {
   "cell_type": "code",
   "execution_count": 13,
   "metadata": {},
   "outputs": [
    {
     "name": "stdout",
     "output_type": "stream",
     "text": [
      "LGBMRegressor MAE : 0.064037\n"
     ]
    }
   ],
   "source": [
    "# LGBMRegressor\n",
    "\n",
    "model_lgb = LGBMRegressor().fit(X_train, y_train)\n",
    "pred4 = model_lgb.predict(X_test)\n",
    "mae = mean_absolute_error(pred4, y_test)\n",
    "print('LGBMRegressor MAE : %f' %mae)"
   ]
  },
  {
   "cell_type": "markdown",
   "metadata": {},
   "source": [
    "## XGBoost"
   ]
  },
  {
   "cell_type": "code",
   "execution_count": 14,
   "metadata": {},
   "outputs": [
    {
     "name": "stdout",
     "output_type": "stream",
     "text": [
      "XGBRegressor MAE : 0.062883\n"
     ]
    }
   ],
   "source": [
    "# XGBRegressor\n",
    "\n",
    "model_xgb = XGBRegressor().fit(X_train, y_train)\n",
    "pred5 = model_xgb.predict(X_test)\n",
    "mae = mean_absolute_error(pred5, y_test)\n",
    "print('XGBRegressor MAE : %f' %mae)"
   ]
  }
 ],
 "metadata": {
  "interpreter": {
   "hash": "bf3ad073ee54fe618f028f20979c6d93bf2de419467b5c87f8cf480ac49fd2db"
  },
  "kernelspec": {
   "display_name": "Python 3.8.13 ('yeardream')",
   "language": "python",
   "name": "python3"
  },
  "language_info": {
   "codemirror_mode": {
    "name": "ipython",
    "version": 3
   },
   "file_extension": ".py",
   "mimetype": "text/x-python",
   "name": "python",
   "nbconvert_exporter": "python",
   "pygments_lexer": "ipython3",
   "version": "3.8.13"
  },
  "orig_nbformat": 4
 },
 "nbformat": 4,
 "nbformat_minor": 2
}
